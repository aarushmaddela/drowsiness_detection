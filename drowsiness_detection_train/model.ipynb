{
 "cells": [
  {
   "cell_type": "code",
   "execution_count": 1,
   "id": "2d4fd2a6",
   "metadata": {
    "scrolled": true
   },
   "outputs": [
    {
     "name": "stderr",
     "output_type": "stream",
     "text": [
      "2023-12-23 11:46:48.860281: I tensorflow/core/platform/cpu_feature_guard.cc:182] This TensorFlow binary is optimized to use available CPU instructions in performance-critical operations.\n",
      "To enable the following instructions: SSE4.1 SSE4.2, in other operations, rebuild TensorFlow with the appropriate compiler flags.\n"
     ]
    }
   ],
   "source": [
    "import numpy as np\n",
    "import pandas as pd\n",
    "import matplotlib.pyplot as plt\n",
    "%matplotlib inline\n",
    "from keras.utils import img_to_array, load_img\n",
    "from keras.preprocessing.image import ImageDataGenerator\n",
    "from keras.models import Sequential\n",
    "from keras.layers import Conv2D, MaxPooling2D, Flatten, Dense, Dropout\n",
    "import os\n",
    "import cv2\n",
    "from sklearn.model_selection import train_test_split"
   ]
  },
  {
   "cell_type": "code",
   "execution_count": 2,
   "id": "87b6c3fa",
   "metadata": {},
   "outputs": [],
   "source": [
    "def load_images(folder_path):\n",
    "    images = []\n",
    "    labels = []\n",
    "    for filename in os.listdir(folder_path):\n",
    "        img_path = os.path.join(folder_path, filename)\n",
    "        \n",
    "        label = img_path.split('/')[-2]\n",
    "        if label == 'open_eye':\n",
    "            label = 0\n",
    "        else:\n",
    "            label = 1\n",
    "        labels.append(label)\n",
    "        \n",
    "        img = load_img(img_path, target_size = (64, 64), keep_aspect_ratio = True, color_mode='grayscale')\n",
    "        img_array = img_to_array(img)\n",
    "        images.append(img_array)\n",
    "    return np.array(images), np.array(labels)\n",
    "        \n",
    "cwd = os.getcwd()\n",
    "open_eye_path = os.path.join(cwd,'open_eye')\n",
    "closed_eye_path = os.path.join(cwd, 'closed_eye')\n",
    "\n",
    "open_eye_images, open_eye_labels = load_images(open_eye_path)\n",
    "closed_eye_images, closed_eye_labels = load_images(closed_eye_path)"
   ]
  },
  {
   "cell_type": "code",
   "execution_count": 3,
   "id": "141a6d0a",
   "metadata": {},
   "outputs": [
    {
     "name": "stdout",
     "output_type": "stream",
     "text": [
      "(24000, 64, 64, 1) (24000,)\n",
      "(24000, 64, 64, 1) (24000,)\n",
      "(24000, 64, 64)\n",
      "(24000, 64, 64)\n"
     ]
    }
   ],
   "source": [
    "print(open_eye_images.shape, open_eye_labels.shape)\n",
    "print(closed_eye_images.shape, closed_eye_labels.shape)\n",
    "\n",
    "open_eye_images = np.reshape(open_eye_images, (24000, 64, 64))\n",
    "closed_eye_images = np.reshape(closed_eye_images, (24000, 64, 64))\n",
    "\n",
    "print(open_eye_images.shape)\n",
    "print(closed_eye_images.shape)\n",
    "\n",
    "all_images = np.concatenate((open_eye_images, closed_eye_images), axis = 0)\n",
    "labels = np.concatenate((open_eye_labels, closed_eye_labels), axis = 0)"
   ]
  },
  {
   "cell_type": "code",
   "execution_count": 4,
   "id": "09a5f518",
   "metadata": {},
   "outputs": [
    {
     "data": {
      "image/png": "[encoded data removed]",
      "text/plain": [
       "<Figure size 640x480 with 1 Axes>"
      ]
     },
     "metadata": {},
     "output_type": "display_data"
    }
   ],
   "source": [
    "def viz(index, target):\n",
    "    if target == 0:\n",
    "        plt.imshow(open_eye_images[index], cmap='gray')\n",
    "        plt.axis('off')\n",
    "    elif target == 1: \n",
    "        plt.imshow(closed_eye_images[index], cmap = 'gray')\n",
    "        plt.axis('off')\n",
    "    else:\n",
    "        print('Not a valid option, input 0 for open eye and 1 for closed')\n",
    "\n",
    "viz(6000, 0)"
   ]
  },
  {
   "cell_type": "code",
   "execution_count": 5,
   "id": "7c05c16e",
   "metadata": {},
   "outputs": [
    {
     "data": {
      "text/plain": [
       "(144000, 64, 64)"
      ]
     },
     "execution_count": 5,
     "metadata": {},
     "output_type": "execute_result"
    }
   ],
   "source": [
    "image_generator = ImageDataGenerator(\n",
    "    rotation_range=20, \n",
    "    horizontal_flip=True, \n",
    "    shear_range = 0.2, \n",
    "    zoom_range = 0.2\n",
    ")\n",
    "\n",
    "augmented_images = []\n",
    "augmented_labels = []\n",
    "for i in range(len(all_images)):\n",
    "    img = all_images[i]\n",
    "    img_label = labels[i]\n",
    "    img = np.reshape(img, (1, 64, 64, 1))\n",
    "    aug_iter = image_generator.flow(img, batch_size=1)\n",
    "    for j in range(3):\n",
    "        augmented_img = aug_iter.next()[0]\n",
    "        augmented_img = augmented_img.squeeze()\n",
    "        augmented_images.append(augmented_img)\n",
    "        augmented_labels.append(img_label)\n",
    "        \n",
    "augmented_images = np.array(augmented_images)\n",
    "augmented_labels = np.array(augmented_labels)\n",
    "\n",
    "augmented_images.shape\n",
    "\n"
   ]
  },
  {
   "cell_type": "code",
   "execution_count": 6,
   "id": "b7c3e3ff",
   "metadata": {},
   "outputs": [
    {
     "data": {
      "text/plain": [
       "<matplotlib.image.AxesImage at 0x7f8c93b194e0>"
      ]
     },
     "execution_count": 6,
     "metadata": {},
     "output_type": "execute_result"
    },
    {
     "data": {
      "image/png": "[encoded data removed]",
      "text/plain": [
       "<Figure size 640x480 with 1 Axes>"
      ]
     },
     "metadata": {},
     "output_type": "display_data"
    }
   ],
   "source": [
    "plt.imshow(augmented_images[0], cmap = 'gray')"
   ]
  },
  {
   "cell_type": "code",
   "execution_count": 7,
   "id": "e007b469",
   "metadata": {},
   "outputs": [
    {
     "name": "stdout",
     "output_type": "stream",
     "text": [
      "(192000, 64, 64, 1) (192000,)\n"
     ]
    }
   ],
   "source": [
    "final_images = np.concatenate((all_images, augmented_images), axis = 0)\n",
    "final_images = final_images/255\n",
    "final_images = np.reshape(final_images, (192000, 64, 64, 1))\n",
    "\n",
    "final_labels = np.concatenate((labels, augmented_labels), axis = 0)\n",
    "\n",
    "\n",
    "print(final_images.shape, final_labels.shape)"
   ]
  },
  {
   "cell_type": "code",
   "execution_count": 8,
   "id": "1ff19ada",
   "metadata": {},
   "outputs": [
    {
     "name": "stdout",
     "output_type": "stream",
     "text": [
      "(153600, 64, 64, 1) (153600,)\n",
      "(38400, 64, 64, 1) (38400,)\n"
     ]
    }
   ],
   "source": [
    "X_train, X_test, y_train, y_test = train_test_split(final_images, final_labels, test_size = 0.2)\n",
    "\n",
    "print(X_train.shape, y_train.shape)\n",
    "print(X_test.shape, y_test.shape)"
   ]
  },
  {
   "cell_type": "code",
   "execution_count": 9,
   "id": "6d1d7126",
   "metadata": {},
   "outputs": [
    {
     "name": "stdout",
     "output_type": "stream",
     "text": [
      "Epoch 1/10\n",
      "4800/4800 [==============================] - 110s 23ms/step - loss: 0.2522 - accuracy: 0.8903 - val_loss: 0.1359 - val_accuracy: 0.9468\n",
      "Epoch 2/10\n",
      "4800/4800 [==============================] - 113s 24ms/step - loss: 0.1670 - accuracy: 0.9362 - val_loss: 0.1067 - val_accuracy: 0.9626\n",
      "Epoch 3/10\n",
      "4800/4800 [==============================] - 108s 22ms/step - loss: 0.1480 - accuracy: 0.9453 - val_loss: 0.0941 - val_accuracy: 0.9657\n",
      "Epoch 4/10\n",
      "4800/4800 [==============================] - 122s 25ms/step - loss: 0.1390 - accuracy: 0.9493 - val_loss: 0.1037 - val_accuracy: 0.9574\n",
      "Epoch 5/10\n",
      "4800/4800 [==============================] - 113s 23ms/step - loss: 0.1313 - accuracy: 0.9534 - val_loss: 0.1562 - val_accuracy: 0.9516\n",
      "Epoch 6/10\n",
      "4800/4800 [==============================] - 107s 22ms/step - loss: 0.1301 - accuracy: 0.9549 - val_loss: 0.0819 - val_accuracy: 0.9668\n",
      "Epoch 7/10\n",
      "4800/4800 [==============================] - 107s 22ms/step - loss: 0.1241 - accuracy: 0.9569 - val_loss: 0.0907 - val_accuracy: 0.9676\n",
      "Epoch 8/10\n",
      "4800/4800 [==============================] - 109s 23ms/step - loss: 0.1224 - accuracy: 0.9590 - val_loss: 0.0962 - val_accuracy: 0.9616\n",
      "Epoch 9/10\n",
      "4800/4800 [==============================] - 107s 22ms/step - loss: 0.1195 - accuracy: 0.9596 - val_loss: 0.0854 - val_accuracy: 0.9653\n",
      "Epoch 10/10\n",
      "4800/4800 [==============================] - 107s 22ms/step - loss: 0.1186 - accuracy: 0.9596 - val_loss: 0.0788 - val_accuracy: 0.9712\n",
      "1200/1200 [==============================] - 8s 7ms/step - loss: 0.0788 - accuracy: 0.9712\n",
      "Test Accuracy: 0.9712239503860474\n"
     ]
    }
   ],
   "source": [
    "model = Sequential()\n",
    "model.add(Conv2D(filters = 32, kernel_size = 5, strides = 2, padding = 'same', activation = 'relu'))\n",
    "model.add(MaxPooling2D(pool_size = (2,2)))\n",
    "model.add(Dropout(0.5))\n",
    "model.add(Conv2D(filters = 64, kernel_size = 3, strides = 1, activation = 'relu'))\n",
    "model.add(MaxPooling2D(pool_size = (2,2)))\n",
    "model.add(Dropout(0.5))\n",
    "model.add(Conv2D(filters = 128, kernel_size = 3, strides = 1, activation = 'relu'))\n",
    "model.add(MaxPooling2D(pool_size = (2,2)))\n",
    "model.add(Dropout(0.5))\n",
    "model.add(Flatten())\n",
    "model.add(Dense(1024, activation = 'relu'))\n",
    "model.add(Dropout(0.5))\n",
    "model.add(Dense(512, activation = 'relu'))\n",
    "model.add(Dropout(0.5))\n",
    "model.add(Dense(128, activation = 'relu'))\n",
    "model.add(Dropout(0.5))\n",
    "model.add(Dense(1, activation = 'sigmoid'))\n",
    "\n",
    "model.compile(optimizer='adam', loss='binary_crossentropy', metrics=['accuracy'])\n",
    "\n",
    "model.fit(X_train, y_train, epochs=10, batch_size=32, validation_data=(X_test, y_test))\n",
    "\n",
    "accuracy = model.evaluate(X_test, y_test)\n",
    "print(\"Test Accuracy:\", accuracy[1])"
   ]
  },
  {
   "cell_type": "code",
   "execution_count": 14,
   "id": "8f7e43a3",
   "metadata": {},
   "outputs": [
    {
     "name": "stdout",
     "output_type": "stream",
     "text": [
      "1/1 [==============================] - 0s 97ms/step\n"
     ]
    },
    {
     "data": {
      "text/plain": [
       "array([[0.]], dtype=float32)"
      ]
     },
     "execution_count": 14,
     "metadata": {},
     "output_type": "execute_result"
    }
   ],
   "source": [
    "test_image = final_images[0]\n",
    "test_image = np.reshape(test_image, (1, 64, 64, 1))\n",
    "model.predict(test_image)"
   ]
  },
  {
   "cell_type": "code",
   "execution_count": 16,
   "id": "b6175d8f",
   "metadata": {},
   "outputs": [
    {
     "name": "stdout",
     "output_type": "stream",
     "text": [
      "Epoch 1/10\n",
      "6000/6000 [==============================] - 126s 21ms/step - loss: 0.2336 - accuracy: 0.9019\n",
      "Epoch 2/10\n",
      "6000/6000 [==============================] - 127s 21ms/step - loss: 0.1530 - accuracy: 0.9423\n",
      "Epoch 3/10\n",
      "6000/6000 [==============================] - 127s 21ms/step - loss: 0.1361 - accuracy: 0.9508\n",
      "Epoch 4/10\n",
      "6000/6000 [==============================] - 139s 23ms/step - loss: 0.1258 - accuracy: 0.9560\n",
      "Epoch 5/10\n",
      "6000/6000 [==============================] - 138s 23ms/step - loss: 0.1181 - accuracy: 0.9593\n",
      "Epoch 6/10\n",
      "6000/6000 [==============================] - 134s 22ms/step - loss: 0.1157 - accuracy: 0.9607\n",
      "Epoch 7/10\n",
      "6000/6000 [==============================] - 132s 22ms/step - loss: 0.1129 - accuracy: 0.9621\n",
      "Epoch 8/10\n",
      "6000/6000 [==============================] - 132s 22ms/step - loss: 0.1113 - accuracy: 0.9630\n",
      "Epoch 9/10\n",
      "6000/6000 [==============================] - 132s 22ms/step - loss: 0.1082 - accuracy: 0.9633\n",
      "Epoch 10/10\n",
      "6000/6000 [==============================] - 132s 22ms/step - loss: 0.1069 - accuracy: 0.9642\n"
     ]
    },
    {
     "data": {
      "text/plain": [
       "<keras.callbacks.History at 0x7f8b907d56c0>"
      ]
     },
     "execution_count": 16,
     "metadata": {},
     "output_type": "execute_result"
    }
   ],
   "source": [
    "model = Sequential()\n",
    "model.add(Conv2D(filters = 32, kernel_size = 5, strides = 2, padding = 'same', activation = 'relu'))\n",
    "model.add(MaxPooling2D(pool_size = (2,2)))\n",
    "model.add(Dropout(0.5))\n",
    "model.add(Conv2D(filters = 64, kernel_size = 3, strides = 1, activation = 'relu'))\n",
    "model.add(MaxPooling2D(pool_size = (2,2)))\n",
    "model.add(Dropout(0.5))\n",
    "model.add(Conv2D(filters = 128, kernel_size = 3, strides = 1, activation = 'relu'))\n",
    "model.add(MaxPooling2D(pool_size = (2,2)))\n",
    "model.add(Dropout(0.5))\n",
    "model.add(Flatten())\n",
    "model.add(Dense(1024, activation = 'relu'))\n",
    "model.add(Dropout(0.5))\n",
    "model.add(Dense(512, activation = 'relu'))\n",
    "model.add(Dropout(0.5))\n",
    "model.add(Dense(128, activation = 'relu'))\n",
    "model.add(Dropout(0.5))\n",
    "model.add(Dense(1, activation = 'sigmoid'))\n",
    "\n",
    "model.compile(optimizer='adam', loss='binary_crossentropy', metrics=['accuracy'])\n",
    "\n",
    "model.fit(final_images, final_labels, epochs=10, batch_size=32)"
   ]
  },
  {
   "cell_type": "code",
   "execution_count": 17,
   "id": "ad5d7780",
   "metadata": {},
   "outputs": [],
   "source": [
    "model.save('model.keras')"
   ]
  },
  {
   "cell_type": "code",
   "execution_count": 19,
   "id": "2b074f22",
   "metadata": {},
   "outputs": [],
   "source": [
    "from keras.models import load_model"
   ]
  },
  {
   "cell_type": "code",
   "execution_count": 20,
   "id": "aeae4c6e",
   "metadata": {},
   "outputs": [],
   "source": [
    "model2 = load_model('model.keras')"
   ]
  },
  {
   "cell_type": "code",
   "execution_count": 25,
   "id": "2d1b367a",
   "metadata": {},
   "outputs": [
    {
     "name": "stdout",
     "output_type": "stream",
     "text": [
      "1/1 [==============================] - 0s 25ms/step\n",
      "[[0.]]\n"
     ]
    }
   ],
   "source": [
    "print(np.rint(model2.predict(test_image)))"
   ]
  },
  {
   "cell_type": "code",
   "execution_count": null,
   "id": "013ab032",
   "metadata": {},
   "outputs": [],
   "source": []
  }
 ],
 "metadata": {
  "kernelspec": {
   "display_name": "Python 3 (ipykernel)",
   "language": "python",
   "name": "python3"
  },
  "language_info": {
   "codemirror_mode": {
    "name": "ipython",
    "version": 3
   },
   "file_extension": ".py",
   "mimetype": "text/x-python",
   "name": "python",
   "nbconvert_exporter": "python",
   "pygments_lexer": "ipython3",
   "version": "3.10.13"
  }
 },
 "nbformat": 4,
 "nbformat_minor": 5
}
